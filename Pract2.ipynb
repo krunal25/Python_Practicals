{
 "cells": [
  {
   "cell_type": "markdown",
   "id": "25fb83ee",
   "metadata": {},
   "source": [
    "        ##   Ch:2  Containers"
   ]
  },
  {
   "cell_type": "markdown",
   "id": "467eadb1",
   "metadata": {},
   "source": [
    "    ->  other then basic data type python provide servel types of Container.**<br>\n",
    "    ->  contaner can be used of group similar types of objects to gether.**"
   ]
  },
  {
   "cell_type": "markdown",
   "id": "ced7dc1d",
   "metadata": {},
   "source": [
    "<span style='color=green'>1.  Sometimes the order of the object is import,math,ssequence {a0,a1,a2}</span><br>\n",
    "<span style='color=green'>2.  Sometimes the order is irrlevant as the set('cat','dog','cow')</span>"
   ]
  },
  {
   "cell_type": "markdown",
   "id": "c29f2acc",
   "metadata": {},
   "source": [
    "1.list for lists.<br>\n",
    "2.tuple for tuples<br>\n",
    "3.range for ranges<br>\n",
    "4.dict  for dictionaries<br>\n",
    "5.set for sets"
   ]
  },
  {
   "cell_type": "markdown",
   "id": "ca5b61a4",
   "metadata": {},
   "source": [
    "                         Containers differ in the following ways:"
   ]
  },
  {
   "cell_type": "markdown",
   "id": "6f5e08c7",
   "metadata": {},
   "source": [
    "1.  Mutable v/s immutable :  Muttable containers cae modified after they have been created\n",
    "\n",
    "2.  Ordered v/s unorderd :  The item in an order container are stored in fixed siqueence\n",
    "    Those is an unorederd container are not\n",
    "    \n",
    "3.  Indexable v/s non-indexble : The item in an indxable container can be retrived using key\n",
    "    those non-indexable container cannot"
   ]
  },
  {
   "cell_type": "markdown",
   "id": "c89b57e6",
   "metadata": {},
   "source": [
    "                                        ## List"
   ]
  },
  {
   "cell_type": "markdown",
   "id": "ceae782a",
   "metadata": {},
   "source": [
    "    1. List are mutable -one created,elements can be added,replaced or deleted.\n",
    "    2. A list is an odeerd sequence of objects.\n",
    "    3. A list is a Hatrogenious container list element can be of any type and can be differdifferent types within the same list."
   ]
  },
  {
   "cell_type": "code",
   "execution_count": 5,
   "id": "e06cf0db",
   "metadata": {},
   "outputs": [
    {
     "data": {
      "text/plain": [
       "list"
      ]
     },
     "execution_count": 5,
     "metadata": {},
     "output_type": "execute_result"
    }
   ],
   "source": [
    "#Two way to create List\n",
    "l1=[]\n",
    "type(l1)           #one way use squre brackets to create List                   \n",
    "# l2=list[]        # second way usin list constrouctor"
   ]
  },
  {
   "cell_type": "code",
   "execution_count": 8,
   "id": "c25d8f70",
   "metadata": {},
   "outputs": [
    {
     "data": {
      "text/plain": [
       "list"
      ]
     },
     "execution_count": 8,
     "metadata": {},
     "output_type": "execute_result"
    }
   ],
   "source": [
    "l3=[1,'krunal',2.4,True] \n",
    "# l3                                                  \n",
    "# len(l3)\n",
    "# l3  \n",
    "# print(l3)\n",
    "# type(list(l3))\n",
    "type(l3)"
   ]
  },
  {
   "cell_type": "code",
   "execution_count": 9,
   "id": "fae6355d",
   "metadata": {},
   "outputs": [
    {
     "data": {
      "text/plain": [
       "['krunal', 12.4, True]"
      ]
     },
     "execution_count": 9,
     "metadata": {},
     "output_type": "execute_result"
    }
   ],
   "source": [
    "l4=[2,'krunal',12.4,True]\n",
    "# l4[1]='10'\n",
    "# l4[4]='extra'          #error out of range\n",
    "# l4.append(\"add at end\")\n",
    "# l4.insert(2,\"b\")       # insert b at 2nd imdex\n",
    "l4.remove(2)             # remove 2\n",
    "l4"
   ]
  },
  {
   "cell_type": "code",
   "execution_count": 10,
   "id": "364f06e4",
   "metadata": {},
   "outputs": [
    {
     "data": {
      "text/plain": [
       "3"
      ]
     },
     "execution_count": 10,
     "metadata": {},
     "output_type": "execute_result"
    }
   ],
   "source": [
    "#all element are string\n",
    "# l4=['a','c','d','v','t']\n",
    "# l4.sort(key = str.lower)         # sorting\n",
    "# l4\n",
    "# all elements are number\n",
    "l5=[4.5,7,3,4.5]                    #defalt assendig order\n",
    "l5.sort()\n",
    "l5  \n",
    "# sorted(l5, reverse = True)\n",
    "#l5                                  #reverse keyword to start in desending order\n",
    "min(l5)\n"
   ]
  },
  {
   "cell_type": "code",
   "execution_count": 13,
   "id": "468c4753",
   "metadata": {},
   "outputs": [
    {
     "data": {
      "text/plain": [
       "['a', 'c', 'd', 'v', 't', 1, 'j', 2.4, True]"
      ]
     },
     "execution_count": 13,
     "metadata": {},
     "output_type": "execute_result"
    }
   ],
   "source": [
    "l3=[1,'j',2.4,True]\n",
    "l4=['a','c','d','v','t']\n",
    "l5= l4 + l3                     \n",
    "# l5\n",
    "# l3[:-2]\n",
    " \n",
    "l5\n"
   ]
  },
  {
   "cell_type": "code",
   "execution_count": 15,
   "id": "62c47a7c",
   "metadata": {},
   "outputs": [
    {
     "data": {
      "text/plain": [
       "[1, 'j']"
      ]
     },
     "execution_count": 15,
     "metadata": {},
     "output_type": "execute_result"
    }
   ],
   "source": [
    "l3=[1,'j',2.4,True] \n",
    "l3[:len(l3)-2]   \n",
    "len(l3) \n",
    "l3[:2]  "
   ]
  },
  {
   "cell_type": "code",
   "execution_count": 17,
   "id": "424d1144",
   "metadata": {},
   "outputs": [
    {
     "data": {
      "text/plain": [
       "[1, 'j', 2.4, True]"
      ]
     },
     "execution_count": 17,
     "metadata": {},
     "output_type": "execute_result"
    }
   ],
   "source": [
    "#all element are string\n",
    "\n",
    "l5=['A','K','W','Z','C']\n",
    "l5.sort(key=str.upper)\n",
    "# l5\n",
    "# ALL ELEMNENT ARE NUMBER\n",
    "l3=[1,'j',2.4,True] \n",
    "l5=[3,1.2,9,8,8.5]\n",
    "# l5.sort()\n",
    "# l5\n",
    "sorted(l5,reverse=True)         #the reverse keyword is used to sort in desending order\n",
    "\n",
    "l5=l3[:] \n",
    "l5"
   ]
  },
  {
   "cell_type": "code",
   "execution_count": 18,
   "id": "0c8588d5",
   "metadata": {},
   "outputs": [
    {
     "data": {
      "text/plain": [
       "['krunal', 'harsh', 'karan']"
      ]
     },
     "execution_count": 18,
     "metadata": {},
     "output_type": "execute_result"
    }
   ],
   "source": [
    "a = ['krunal','harsh','karan']\n",
    "a\n",
    "b = a.copy()\n",
    "b"
   ]
  },
  {
   "cell_type": "code",
   "execution_count": 19,
   "id": "23747103",
   "metadata": {},
   "outputs": [
    {
     "data": {
      "text/plain": [
       "66"
      ]
     },
     "execution_count": 19,
     "metadata": {},
     "output_type": "execute_result"
    }
   ],
   "source": [
    "l6=[\"a\",\"b\",\"c\",\"d\",7,66,45]\n",
    "l6.pop()\n",
    "l6.pop(2)\n",
    "l6.pop(-1)\n"
   ]
  },
  {
   "cell_type": "markdown",
   "id": "8f0424ff",
   "metadata": {},
   "source": [
    "                                        # Tuple"
   ]
  },
  {
   "cell_type": "markdown",
   "id": "64172c0e",
   "metadata": {},
   "source": [
    "    1.Tuples are containers like lists,with the difference being that they are immutable -once diffiend elements cannot be changed or added.\n",
    "    \n",
    "    2.Tuples are identified by surrounding standard parentheses.\n",
    "    \n",
    "    3.To generate a tuple enclosed sequence of objects (sepreted by commas)in standard parenthesses().\n",
    "    \n",
    "    4.Tuple indexing and slicing works in the same way as for lists and strings.\n",
    "    \n",
    "    5.It is error try to change a tuple element once the tuple has been created.\n",
    "    \n",
    "    6.Tuples are simpler and more efficient then list in terms of memory used and perfomance.\n",
    "    \n",
    "    7.They are often preferred for 'temporary'variables that will not need to be modified.\n",
    "    \n",
    "    8.They can also be use dictionary key,which list cannot.\n",
    "    \n"
   ]
  },
  {
   "cell_type": "code",
   "execution_count": 20,
   "id": "4e0fbf6c",
   "metadata": {},
   "outputs": [
    {
     "ename": "TypeError",
     "evalue": "'tuple' object does not support item assignment",
     "output_type": "error",
     "traceback": [
      "\u001b[1;31m---------------------------------------------------------------------------\u001b[0m",
      "\u001b[1;31mTypeError\u001b[0m                                 Traceback (most recent call last)",
      "\u001b[1;32m<ipython-input-20-f23c6ec6d855>\u001b[0m in \u001b[0;36m<module>\u001b[1;34m\u001b[0m\n\u001b[0;32m      6\u001b[0m \u001b[1;31m# t1[2]\u001b[0m\u001b[1;33m\u001b[0m\u001b[1;33m\u001b[0m\u001b[1;33m\u001b[0m\u001b[0m\n\u001b[0;32m      7\u001b[0m \u001b[1;31m# t1[1:]\u001b[0m\u001b[1;33m\u001b[0m\u001b[1;33m\u001b[0m\u001b[1;33m\u001b[0m\u001b[0m\n\u001b[1;32m----> 8\u001b[1;33m \u001b[0mt1\u001b[0m\u001b[1;33m[\u001b[0m\u001b[1;36m2\u001b[0m\u001b[1;33m]\u001b[0m\u001b[1;33m=\u001b[0m\u001b[1;36m4\u001b[0m          \u001b[1;31m# cant change\u001b[0m\u001b[1;33m\u001b[0m\u001b[1;33m\u001b[0m\u001b[0m\n\u001b[0m",
      "\u001b[1;31mTypeError\u001b[0m: 'tuple' object does not support item assignment"
     ]
    }
   ],
   "source": [
    "#create tuple\n",
    "t1=('a',12,2.5,True)\n",
    "# t1\n",
    "# print(t1)\n",
    "# type(t1)\n",
    "# t1[2]\n",
    "# t1[1:]\n",
    "t1[2]=4          # cant change"
   ]
  },
  {
   "cell_type": "markdown",
   "id": "cbd0f90e",
   "metadata": {},
   "source": [
    "___Any Comma -separated sequence of values defines a tuple.which can be used to assign values to multiple variables at a time.___"
   ]
  },
  {
   "cell_type": "code",
   "execution_count": 22,
   "id": "d4c12ee5",
   "metadata": {},
   "outputs": [
    {
     "name": "stdout",
     "output_type": "stream",
     "text": [
      "True\n"
     ]
    }
   ],
   "source": [
    "t2=1,2,5,'k'\n",
    "t1=('a',12,2.5,True)\n",
    "# x,y=12,13\n",
    "x=12,13\n",
    "# type(t2)\n",
    "# print(x,y)\n",
    "type(x)\n",
    "# t2.index(\"k\")                    #A tuple is an orderd like list,so you can get its values refercing an index value.\n",
    "# t3=t1+t2                         #create a new tuple\n",
    "# t3\n",
    "# t3=t2*2                         #repeat a number of a times\n",
    "# t3\n",
    "print('k' in t2)                  #in operator \n"
   ]
  },
  {
   "cell_type": "code",
   "execution_count": 23,
   "id": "20b38fab",
   "metadata": {},
   "outputs": [
    {
     "data": {
      "text/plain": [
       "tuple"
      ]
     },
     "execution_count": 23,
     "metadata": {},
     "output_type": "execute_result"
    }
   ],
   "source": [
    "# l1=[1,1]\n",
    "# type(l1)                 \n",
    "l1=(1,1)\n",
    "type(l1)\n",
    "# l11 = 1,1,7,25\n",
    "# l11  "
   ]
  },
  {
   "cell_type": "markdown",
   "id": "fe272228",
   "metadata": {},
   "source": [
    "                                    # Sets"
   ]
  },
  {
   "cell_type": "markdown",
   "id": "720c02ba",
   "metadata": {},
   "source": [
    "    1. Sets are containers with same meaning they do it mathmatics. \n",
    "    \n",
    "    2. unorderd collection of item with no duplicates. \n",
    "    \n",
    "    3. sets are identified by Surrounding curly brackets. \n",
    "    \n",
    "    4. To generate a list enclosed a sequence of object (sepreted by commas )in curly brackets. \n",
    "    \n",
    "    5. Duplicates will be remove for creating exisiting sets. \n",
    "    \n",
    "    6. sets can be used insted of list when we know that each element is unique and immutable (unchanging). \n",
    "    \n",
    "    7. immutable version of set called frozenset. \n",
    "    "
   ]
  },
  {
   "cell_type": "markdown",
   "id": "2e18266e",
   "metadata": {},
   "source": [
    "___sets are created using curly breaket___"
   ]
  },
  {
   "cell_type": "code",
   "execution_count": 74,
   "id": "6980d66b",
   "metadata": {},
   "outputs": [
    {
     "data": {
      "text/plain": [
       "set"
      ]
     },
     "execution_count": 74,
     "metadata": {},
     "output_type": "execute_result"
    }
   ],
   "source": [
    "# set create\n",
    "# s={1,'a',2}\n",
    "# s\n",
    "# type(s)\n",
    "s1=set([\"11\",3,\"33\",3])\n",
    "# s1\n",
    "type(s1)"
   ]
  },
  {
   "cell_type": "code",
   "execution_count": 79,
   "id": "e03467e6",
   "metadata": {},
   "outputs": [
    {
     "data": {
      "text/plain": [
       "dict"
      ]
     },
     "execution_count": 79,
     "metadata": {},
     "output_type": "execute_result"
    }
   ],
   "source": [
    "#empty set\n",
    "# s3=set([])\n",
    "s3={}\n",
    "type(s3)"
   ]
  },
  {
   "cell_type": "markdown",
   "id": "507a57de",
   "metadata": {},
   "source": [
    "**Standard mathametical operations for sets are all built in python**"
   ]
  },
  {
   "cell_type": "code",
   "execution_count": 93,
   "id": "5a834127",
   "metadata": {},
   "outputs": [
    {
     "data": {
      "text/plain": [
       "{'cat2', 'dog1'}"
      ]
     },
     "execution_count": 93,
     "metadata": {},
     "output_type": "execute_result"
    }
   ],
   "source": [
    "aa1={'cat','dog','cow'}\n",
    "aa2={0,2,4,6,8}\n",
    "aa3={1,2,3,4,5}\n",
    "aa4={'cat2','dog1','dog'}\n",
    "aa1 | aa2 \n",
    "aa2 | aa3\n",
    "aa1 | aa4\n",
    "aa1 & aa4 \n",
    "'dog' in aa1\n",
    "aa1 & aa2\n",
    "aa4 - aa1  "
   ]
  },
  {
   "cell_type": "markdown",
   "id": "8abbd8ce",
   "metadata": {},
   "source": [
    "# Dictonary"
   ]
  },
  {
   "cell_type": "markdown",
   "id": "6ede512b",
   "metadata": {},
   "source": [
    "  => Dictionaries are Containers where items are accessed by a key\n",
    "    \n",
    "  => This make them different from sequence type objects such as strings,list,and tuples ehere item are accessed by position.\n"
   ]
  },
  {
   "cell_type": "markdown",
   "id": "0bab2b91",
   "metadata": {},
   "source": [
    "<span style='color: black'>1. To generate a dictionary enclosed a sequence of key:value pairs(sepreted by commas)in curly brackets.</span><br>\n",
    "<span style='color: black'>2. The key can be any immutable object-a number,string or tuple.</span><br>\n",
    "<span style='color: black'>3. new dictionary elements can be added and exiting once can be changed by using assignment statement.</span><br>\n",
    "<span style='color: black'>4. order is not preserved in a dictionary so printing a dictionary will not necessarilly prints item in the same order that they were added</span><br>"
   ]
  },
  {
   "cell_type": "code",
   "execution_count": 19,
   "id": "681e4673",
   "metadata": {},
   "outputs": [
    {
     "data": {
      "text/plain": [
       "{1: 'sunday', 2: 'monday', 3: 'thuesday'}"
      ]
     },
     "execution_count": 19,
     "metadata": {},
     "output_type": "execute_result"
    }
   ],
   "source": [
    "#create Dictionary                     #note the colon in the key:value pairs.\n",
    "d1={1:'sunday',2:'monday',3:'thuesday'} #Creating and empty dict.\n",
    "d1                                      #another way to create and empty dictionary."
   ]
  },
  {
   "cell_type": "code",
   "execution_count": 17,
   "id": "452f6489",
   "metadata": {},
   "outputs": [],
   "source": [
    "# d11={}                                       #Creating and empty dict.\n",
    "# d12=dict()                                      #another way to create and empty dictionary."
   ]
  },
  {
   "cell_type": "code",
   "execution_count": 21,
   "id": "8188987d",
   "metadata": {},
   "outputs": [
    {
     "data": {
      "text/plain": [
       "dict"
      ]
     },
     "execution_count": 21,
     "metadata": {},
     "output_type": "execute_result"
    }
   ],
   "source": [
    "type(d1)"
   ]
  },
  {
   "cell_type": "code",
   "execution_count": 8,
   "id": "e1718018",
   "metadata": {},
   "outputs": [
    {
     "data": {
      "text/plain": [
       "'sunday'"
      ]
     },
     "execution_count": 8,
     "metadata": {},
     "output_type": "execute_result"
    }
   ],
   "source": [
    "d1[1]                          #Dictonary values are acced using the keys."
   ]
  },
  {
   "cell_type": "code",
   "execution_count": 10,
   "id": "1e06dc37",
   "metadata": {},
   "outputs": [
    {
     "data": {
      "text/plain": [
       "{1: 'sunday', 2: 'monday', 3: 'Tuesday'}"
      ]
     },
     "execution_count": 10,
     "metadata": {},
     "output_type": "execute_result"
    }
   ],
   "source": [
    "#Dictionary values can be change/update using the \"=\" assignment operator\n",
    "d1[3]='Tuesday'\n",
    "d1"
   ]
  },
  {
   "cell_type": "code",
   "execution_count": 22,
   "id": "5e414c1c",
   "metadata": {},
   "outputs": [
    {
     "data": {
      "text/plain": [
       "{1: 'sunday', 2: 'monday', 3: 'thuesday', 7: 'Saturaday'}"
      ]
     },
     "execution_count": 22,
     "metadata": {},
     "output_type": "execute_result"
    }
   ],
   "source": [
    "# New key:values pairs (Adding new items)can be assigned using the\"=\"assignment operator.\n",
    "d1[7]='Saturaday'\n",
    "d1"
   ]
  },
  {
   "cell_type": "code",
   "execution_count": 14,
   "id": "3ffc3cda",
   "metadata": {},
   "outputs": [
    {
     "data": {
      "text/plain": [
       "'holiday'"
      ]
     },
     "execution_count": 14,
     "metadata": {},
     "output_type": "execute_result"
    }
   ],
   "source": [
    "# d1.get(7)#get return value for key if key is wrong or does not exists get does not return\n",
    "d1.get(8,'holiday')"
   ]
  },
  {
   "cell_type": "code",
   "execution_count": 15,
   "id": "881b1a11",
   "metadata": {},
   "outputs": [
    {
     "data": {
      "text/plain": [
       "{65: 'a', 66: 'B', 67: 'c', 68: 'D', 69: 'E'}"
      ]
     },
     "execution_count": 15,
     "metadata": {},
     "output_type": "execute_result"
    }
   ],
   "source": [
    "# Remove item\n",
    "nd={65:'a',66:'B',67:'c',68:'D',69:'E'}\n",
    "nd"
   ]
  },
  {
   "cell_type": "code",
   "execution_count": 16,
   "id": "b727dba3",
   "metadata": {},
   "outputs": [
    {
     "data": {
      "text/plain": [
       "{65: 'a', 66: 'B', 68: 'D', 69: 'E'}"
      ]
     },
     "execution_count": 16,
     "metadata": {},
     "output_type": "execute_result"
    }
   ],
   "source": [
    "#pop()and popitem()function to remove item for dic\n",
    "nd.pop(67)\n",
    "nd"
   ]
  },
  {
   "cell_type": "code",
   "execution_count": 24,
   "id": "fc6be4dd",
   "metadata": {},
   "outputs": [
    {
     "data": {
      "text/plain": [
       "(69, 'E')"
      ]
     },
     "execution_count": 24,
     "metadata": {},
     "output_type": "execute_result"
    }
   ],
   "source": [
    "#Remove and arbitary item,return(key,value)#last item\n",
    "nd={65:'a',66:'B',67:'c',68:'D',69:'E'}\n",
    "nd.popitem() "
   ]
  },
  {
   "cell_type": "code",
   "execution_count": 19,
   "id": "f5e4445f",
   "metadata": {},
   "outputs": [
    {
     "data": {
      "text/plain": [
       "(68, 'D')"
      ]
     },
     "execution_count": 19,
     "metadata": {},
     "output_type": "execute_result"
    }
   ],
   "source": [
    "nd.popitem()#jayare biji var run krsu tyare ena pachi no delet thase ?"
   ]
  },
  {
   "cell_type": "code",
   "execution_count": 20,
   "id": "b9d6d7a7",
   "metadata": {},
   "outputs": [
    {
     "data": {
      "text/plain": [
       "{}"
      ]
     },
     "execution_count": 20,
     "metadata": {},
     "output_type": "execute_result"
    }
   ],
   "source": [
    "#Remove item\n",
    "nd.clear()\n",
    "nd"
   ]
  },
  {
   "cell_type": "code",
   "execution_count": 25,
   "id": "9e4e459b",
   "metadata": {},
   "outputs": [],
   "source": [
    "del nd"
   ]
  },
  {
   "cell_type": "markdown",
   "id": "7478e66a",
   "metadata": {},
   "source": [
    "___Dictionary method___\n",
    "->Fromkey (seq[v,v])Returns a new dictionary with a keys from seq and value equal to v(Default to none)"
   ]
  },
  {
   "cell_type": "code",
   "execution_count": 4,
   "id": "207515b9",
   "metadata": {},
   "outputs": [
    {
     "data": {
      "text/plain": [
       "{1: 'Rajkot', 2: 'Rajkot', 3: 'Rajkot'}"
      ]
     },
     "execution_count": 4,
     "metadata": {},
     "output_type": "execute_result"
    }
   ],
   "source": [
    "# Fromkey  \n",
    "s1 = {}.fromkeys([1,2,3],'Rajkot')\n",
    "s1\n"
   ]
  },
  {
   "cell_type": "code",
   "execution_count": 5,
   "id": "fd66498f",
   "metadata": {},
   "outputs": [
    {
     "name": "stdout",
     "output_type": "stream",
     "text": [
      "dict_items([(1, 'Rajkot'), (2, 'Rajkot'), (3, 'Rajkot')])\n"
     ]
    }
   ],
   "source": [
    "print(s1.items())#items()returns a new object of thr dictionarys item in(key,value)formet\n",
    "#dict ni key and value ok done"
   ]
  },
  {
   "cell_type": "code",
   "execution_count": 6,
   "id": "76a17dea",
   "metadata": {},
   "outputs": [
    {
     "name": "stdout",
     "output_type": "stream",
     "text": [
      "{1: 'Rajkot', 2: 'Rajkot', 3: 'Rajkot'}\n"
     ]
    }
   ],
   "source": [
    "print(s1)"
   ]
  },
  {
   "cell_type": "code",
   "execution_count": 23,
   "id": "7d36b459",
   "metadata": {},
   "outputs": [
    {
     "data": {
      "text/plain": [
       "dict_keys([1, 2, 3, 4, 'name'])"
      ]
     },
     "execution_count": 23,
     "metadata": {},
     "output_type": "execute_result"
    }
   ],
   "source": [
    "s2 = {\n",
    "    1 : \"a\",            #Return a new obeject of the dictionary keys\n",
    "    2 : \"b\",\n",
    "    3 : \"c\",\n",
    "    4 : \"d\",\n",
    "    \"name\" : \"Kk\"\n",
    "}\n",
    "s2.keys()  "
   ]
  },
  {
   "cell_type": "code",
   "execution_count": 25,
   "id": "a7f5c7b5",
   "metadata": {},
   "outputs": [
    {
     "data": {
      "text/plain": [
       "'b'"
      ]
     },
     "execution_count": 25,
     "metadata": {},
     "output_type": "execute_result"
    }
   ],
   "source": [
    "s2.pop(2)  "
   ]
  },
  {
   "cell_type": "markdown",
   "id": "7ab3b87a",
   "metadata": {},
   "source": [
    "Pyhon Dictionary comparision"
   ]
  },
  {
   "cell_type": "markdown",
   "id": "39ded97d",
   "metadata": {},
   "source": [
    "    1.Dictionary compression is an elegant  and concise way to create  a new dictionary from an itrable in paython \n",
    "\n",
    "    2.Dictionary comaression consists of an Expreesion pair (key:value) followed by a for statement inside curly bracketls{}  "
   ]
  },
  {
   "cell_type": "code",
   "execution_count": 25,
   "id": "9d933008",
   "metadata": {},
   "outputs": [
    {
     "data": {
      "text/plain": [
       "range(0, 5)"
      ]
     },
     "execution_count": 25,
     "metadata": {},
     "output_type": "execute_result"
    }
   ],
   "source": [
    "range(5)"
   ]
  },
  {
   "cell_type": "code",
   "execution_count": 26,
   "id": "2ea3e401",
   "metadata": {},
   "outputs": [
    {
     "data": {
      "text/plain": [
       "range(0, 5)"
      ]
     },
     "execution_count": 26,
     "metadata": {},
     "output_type": "execute_result"
    }
   ],
   "source": [
    "x = range(5)\n",
    "x "
   ]
  },
  {
   "cell_type": "code",
   "execution_count": 27,
   "id": "156866e5",
   "metadata": {},
   "outputs": [
    {
     "name": "stdout",
     "output_type": "stream",
     "text": [
      "{0: 0, 1: 1, 2: 4, 3: 9, 4: 16, 5: 25}\n"
     ]
    }
   ],
   "source": [
    "#Example to make a dictionary with each item being a pair of a number and its squre.\n",
    "#Dictionary Compression\n",
    "\n",
    "Squres={x:x*x for x in range(6)}\n",
    "print(Squres)"
   ]
  },
  {
   "cell_type": "code",
   "execution_count": 17,
   "id": "3a2f760a",
   "metadata": {},
   "outputs": [
    {
     "data": {
      "text/plain": [
       "{2: 4, 3: 9, 4: 16}"
      ]
     },
     "execution_count": 17,
     "metadata": {},
     "output_type": "execute_result"
    }
   ],
   "source": [
    "s = {x : x * x for x in range(2,5)}\n",
    "s"
   ]
  },
  {
   "cell_type": "code",
   "execution_count": 18,
   "id": "3a9e5b9c",
   "metadata": {},
   "outputs": [
    {
     "name": "stdout",
     "output_type": "stream",
     "text": [
      "{0: 0, 1: 1, 2: 4, 3: 9, 4: 16}\n"
     ]
    }
   ],
   "source": [
    "square = {}\n",
    "for x in range(5):\n",
    "    square[x] = x * x\n",
    "print(square)\n",
    "    "
   ]
  },
  {
   "cell_type": "code",
   "execution_count": 19,
   "id": "04f2f661",
   "metadata": {},
   "outputs": [
    {
     "data": {
      "text/plain": [
       "{0: 0, 2: 4, 4: 16}"
      ]
     },
     "execution_count": 19,
     "metadata": {},
     "output_type": "execute_result"
    }
   ],
   "source": [
    "s3 = {x :x * x for x in range(5) if x%2 == 0}\n",
    "s3"
   ]
  },
  {
   "cell_type": "code",
   "execution_count": 25,
   "id": "882e98f4",
   "metadata": {},
   "outputs": [
    {
     "name": "stdout",
     "output_type": "stream",
     "text": [
      "0\n",
      "2\n",
      "4\n"
     ]
    }
   ],
   "source": [
    "square = {}\n",
    "for x in range(5):\n",
    "    square[x] = x * x\n",
    "    if square[x] % 2==0:\n",
    "        print(x)\n",
    "    "
   ]
  },
  {
   "cell_type": "markdown",
   "id": "20b6adbd",
   "metadata": {},
   "source": [
    "    1.A Dictionary Comression can optionally contain more for if statements<br>\n",
    "    2.An optional if statement can filter out item to fromthe new dictionary"
   ]
  },
  {
   "cell_type": "code",
   "execution_count": 34,
   "id": "e3938600",
   "metadata": {},
   "outputs": [
    {
     "name": "stdout",
     "output_type": "stream",
     "text": [
      "0\n",
      "2\n",
      "4\n",
      "True\n"
     ]
    }
   ],
   "source": [
    "# dictionary memarship test using 'in' keyword 'in'is known as membership operator\n",
    "square = {}\n",
    "for x in range(5):\n",
    "    square[x] = x * x\n",
    "    if square[x] % 2==0:\n",
    "        print(x)\n",
    "    \n",
    "print(2 in square)"
   ]
  },
  {
   "cell_type": "code",
   "execution_count": null,
   "id": "a669e32c",
   "metadata": {},
   "outputs": [],
   "source": []
  }
 ],
 "metadata": {
  "kernelspec": {
   "display_name": "Python 3",
   "language": "python",
   "name": "python3"
  },
  "language_info": {
   "codemirror_mode": {
    "name": "ipython",
    "version": 3
   },
   "file_extension": ".py",
   "mimetype": "text/x-python",
   "name": "python",
   "nbconvert_exporter": "python",
   "pygments_lexer": "ipython3",
   "version": "3.9.4"
  }
 },
 "nbformat": 4,
 "nbformat_minor": 5
}
