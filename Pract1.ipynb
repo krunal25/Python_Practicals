{
 "cells": [
  {
   "cell_type": "markdown",
   "id": "b917f3e8",
   "metadata": {},
   "source": [
    "# Variable Declaration and Basic Concepts "
   ]
  },
  {
   "cell_type": "markdown",
   "id": "be49444d",
   "metadata": {},
   "source": [
    "    -> In above python statemant 'greeting'is a variable ,Rigt??\n",
    "    -> Start with how to declare variable in python.\n",
    "    -> We can create a new pythone variable by assigning a value to a Lable ,using the=assignment operator."
   ]
  },
  {
   "cell_type": "code",
   "execution_count": 1,
   "id": "d3e6439a",
   "metadata": {},
   "outputs": [
    {
     "data": {
      "text/plain": [
       "int"
      ]
     },
     "execution_count": 1,
     "metadata": {},
     "output_type": "execute_result"
    }
   ],
   "source": [
    "i=10         #int                                                                                                                                                           \n",
    "j=20.30      #float\n",
    "s=\"Krunal\"   #string                                      # variable\n",
    "b=True       #boolean\n",
    "f=50.23      #paython is case sensitive langunge\n",
    "i            # to print\n",
    "type(i)      #type to check type\n"
   ]
  },
  {
   "cell_type": "code",
   "execution_count": 13,
   "id": "1daf61ea",
   "metadata": {},
   "outputs": [
    {
     "data": {
      "text/plain": [
       "True"
      ]
     },
     "execution_count": 13,
     "metadata": {},
     "output_type": "execute_result"
    }
   ],
   "source": [
    "s=\"xyz\"\n",
    "type(s)==str"
   ]
  },
  {
   "cell_type": "code",
   "execution_count": 2,
   "id": "19e23bb2",
   "metadata": {},
   "outputs": [
    {
     "data": {
      "text/plain": [
       "bool"
      ]
     },
     "execution_count": 2,
     "metadata": {},
     "output_type": "execute_result"
    }
   ],
   "source": [
    "type(b)    #type is to function to check data type of variable."
   ]
  },
  {
   "cell_type": "markdown",
   "id": "70ec4857",
   "metadata": {},
   "source": [
    "<span> <b>      Rules for varible Declaration  </b></span> "
   ]
  },
  {
   "cell_type": "markdown",
   "id": "59c82783",
   "metadata": {},
   "source": [
    "    1. A varible * start with alphabet with underscore * and can be composed for character , number and the underscore character\n",
    "    2. python keybord is  not a valid variable like if,for,while,import...\n",
    "    3. case sensetive.\n"
   ]
  },
  {
   "cell_type": "code",
   "execution_count": 3,
   "id": "fce3d0ac",
   "metadata": {},
   "outputs": [
    {
     "data": {
      "text/plain": [
       "(5+8j)"
      ]
     },
     "execution_count": 3,
     "metadata": {},
     "output_type": "execute_result"
    }
   ],
   "source": [
    "5+8j\n",
    "(5+8j)"
   ]
  },
  {
   "cell_type": "markdown",
   "id": "7b8a4f89",
   "metadata": {},
   "source": [
    "<span> ***Paython Data Type:-*** </span> <span style= 'background:yellow'>  </span>"
   ]
  },
  {
   "cell_type": "code",
   "execution_count": 1,
   "id": "e8718240",
   "metadata": {},
   "outputs": [],
   "source": [
    "# ->The basic numarical type used in python are:-\n",
    "#     -integers\n",
    "#     -floats(reals)\n",
    "#     -String\n",
    "#     -Boolean\n",
    "#     -Complex numbers(pair of oats)"
   ]
  },
  {
   "cell_type": "markdown",
   "id": "7f4dd366",
   "metadata": {},
   "source": [
    "       -->  Python automatically detects type from the value type. \n",
    "       -->  python automatically convert numbers from one type to another when appropriate.\n",
    "           Example:-int to float etc..."
   ]
  },
  {
   "cell_type": "code",
   "execution_count": 4,
   "id": "9a0c8c50",
   "metadata": {},
   "outputs": [
    {
     "data": {
      "text/plain": [
       "str"
      ]
     },
     "execution_count": 4,
     "metadata": {},
     "output_type": "execute_result"
    }
   ],
   "source": [
    "no=46\n",
    "no=\"mno\"\n",
    "# no\n",
    "type(no)"
   ]
  },
  {
   "cell_type": "code",
   "execution_count": 5,
   "id": "73234c65",
   "metadata": {},
   "outputs": [
    {
     "data": {
      "text/plain": [
       "True"
      ]
     },
     "execution_count": 5,
     "metadata": {},
     "output_type": "execute_result"
    }
   ],
   "source": [
    "#type of Function\n",
    "s='abc'\n",
    "type(s)==str"
   ]
  },
  {
   "cell_type": "markdown",
   "id": "aefde5f3",
   "metadata": {},
   "source": [
    "# Arithmatic operator"
   ]
  },
  {
   "cell_type": "code",
   "execution_count": null,
   "id": "dcbd8b92",
   "metadata": {},
   "outputs": [],
   "source": [
    "    +,-,*,/,**,//  (Floor division the inte-gral part of the quotient,),\n",
    "\n",
    "    %  (modules returns the remain -der.),  abs (modules returns the remain-der)\n",
    "\n",
    "    operation are evaluated in standard order:-\n",
    "    parentless Exponentiation,multiplication ,Divisionaddition,substration."
   ]
  },
  {
   "cell_type": "code",
   "execution_count": 6,
   "id": "66b89f26",
   "metadata": {},
   "outputs": [
    {
     "data": {
      "text/plain": [
       "9.5"
      ]
     },
     "execution_count": 6,
     "metadata": {},
     "output_type": "execute_result"
    }
   ],
   "source": [
    "a=4.5\n",
    "a=a+5             #absolute\n",
    "a"
   ]
  },
  {
   "cell_type": "code",
   "execution_count": 13,
   "id": "92523ff6",
   "metadata": {},
   "outputs": [
    {
     "data": {
      "text/plain": [
       "25"
      ]
     },
     "execution_count": 13,
     "metadata": {},
     "output_type": "execute_result"
    }
   ],
   "source": [
    "a=5\n",
    "a=(-a)**2\n",
    "a              #squre"
   ]
  },
  {
   "cell_type": "code",
   "execution_count": 11,
   "id": "c75216fe",
   "metadata": {},
   "outputs": [
    {
     "data": {
      "text/plain": [
       "-36"
      ]
     },
     "execution_count": 11,
     "metadata": {},
     "output_type": "execute_result"
    }
   ],
   "source": [
    "a=6\n",
    "a=-a**2\n",
    "a\n",
    "# first 6 * 6 ,then - (36)   priority of * and -"
   ]
  },
  {
   "cell_type": "code",
   "execution_count": 12,
   "id": "dd2fe671",
   "metadata": {},
   "outputs": [
    {
     "data": {
      "text/plain": [
       "7.7"
      ]
     },
     "execution_count": 12,
     "metadata": {},
     "output_type": "execute_result"
    }
   ],
   "source": [
    "a = -7.7\n",
    "abs(a) "
   ]
  },
  {
   "cell_type": "code",
   "execution_count": 14,
   "id": "582a856c",
   "metadata": {},
   "outputs": [
    {
     "data": {
      "text/plain": [
       "2.0"
      ]
     },
     "execution_count": 14,
     "metadata": {},
     "output_type": "execute_result"
    }
   ],
   "source": [
    "k = 4\n",
    "k = k/2\n",
    "k\n"
   ]
  },
  {
   "cell_type": "code",
   "execution_count": 7,
   "id": "b2650d9f",
   "metadata": {},
   "outputs": [
    {
     "data": {
      "text/plain": [
       "64"
      ]
     },
     "execution_count": 7,
     "metadata": {},
     "output_type": "execute_result"
    }
   ],
   "source": [
    "a = 4 ** 3\n",
    "a  # 4*4*4  "
   ]
  },
  {
   "cell_type": "code",
   "execution_count": 9,
   "id": "d43304ce",
   "metadata": {},
   "outputs": [
    {
     "data": {
      "text/plain": [
       "16"
      ]
     },
     "execution_count": 9,
     "metadata": {},
     "output_type": "execute_result"
    }
   ],
   "source": [
    "a = (- 4) ** 2\n",
    "a \n",
    "# (-4) * (-4)"
   ]
  },
  {
   "cell_type": "markdown",
   "id": "32b2425d",
   "metadata": {},
   "source": [
    "# Booleans"
   ]
  },
  {
   "cell_type": "markdown",
   "id": "8c9d2312",
   "metadata": {},
   "source": [
    "<span >-    Bollean Type ,which takes the value True or false  </span><br>\n",
    "<span >-    These can also be used like numbers where true has the 1 value and false the value 0</span>"
   ]
  },
  {
   "cell_type": "code",
   "execution_count": 16,
   "id": "36872fb1",
   "metadata": {},
   "outputs": [
    {
     "data": {
      "text/plain": [
       "6"
      ]
     },
     "execution_count": 16,
     "metadata": {},
     "output_type": "execute_result"
    }
   ],
   "source": [
    "b = True + 5\n",
    "b\n",
    "# True = 1"
   ]
  },
  {
   "cell_type": "code",
   "execution_count": 18,
   "id": "1c05c4a4",
   "metadata": {},
   "outputs": [
    {
     "data": {
      "text/plain": [
       "-1"
      ]
     },
     "execution_count": 18,
     "metadata": {},
     "output_type": "execute_result"
    }
   ],
   "source": [
    "b = False - True\n",
    "b  \n",
    "# False = 0"
   ]
  },
  {
   "cell_type": "code",
   "execution_count": 19,
   "id": "2f22562a",
   "metadata": {},
   "outputs": [
    {
     "data": {
      "text/plain": [
       "False"
      ]
     },
     "execution_count": 19,
     "metadata": {},
     "output_type": "execute_result"
    }
   ],
   "source": [
    "False or False      # logical disjuction"
   ]
  },
  {
   "cell_type": "code",
   "execution_count": 24,
   "id": "e54f44e5",
   "metadata": {},
   "outputs": [
    {
     "data": {
      "text/plain": [
       "True"
      ]
     },
     "execution_count": 24,
     "metadata": {},
     "output_type": "execute_result"
    }
   ],
   "source": [
    "True or False        # logical disjuction"
   ]
  },
  {
   "cell_type": "code",
   "execution_count": 25,
   "id": "aa7f00ac",
   "metadata": {},
   "outputs": [
    {
     "data": {
      "text/plain": [
       "False"
      ]
     },
     "execution_count": 25,
     "metadata": {},
     "output_type": "execute_result"
    }
   ],
   "source": [
    "True and False       #logical conjution"
   ]
  },
  {
   "cell_type": "code",
   "execution_count": 26,
   "id": "5740d290",
   "metadata": {},
   "outputs": [
    {
     "data": {
      "text/plain": [
       "True"
      ]
     },
     "execution_count": 26,
     "metadata": {},
     "output_type": "execute_result"
    }
   ],
   "source": [
    "True and True"
   ]
  },
  {
   "cell_type": "code",
   "execution_count": 28,
   "id": "e8b7c1c6",
   "metadata": {},
   "outputs": [
    {
     "data": {
      "text/plain": [
       "False"
      ]
     },
     "execution_count": 28,
     "metadata": {},
     "output_type": "execute_result"
    }
   ],
   "source": [
    "not True     #Logical negation"
   ]
  },
  {
   "cell_type": "code",
   "execution_count": 20,
   "id": "92027dc6",
   "metadata": {},
   "outputs": [
    {
     "data": {
      "text/plain": [
       "8"
      ]
     },
     "execution_count": 20,
     "metadata": {},
     "output_type": "execute_result"
    }
   ],
   "source": [
    "c = True + 4\n",
    "c = c + 3\n",
    "c         #true etle 1"
   ]
  },
  {
   "cell_type": "markdown",
   "id": "9dbecef8",
   "metadata": {},
   "source": [
    "# String"
   ]
  },
  {
   "cell_type": "markdown",
   "id": "2508c340",
   "metadata": {},
   "source": [
    "    ->  Strings are Sequence of Character.\n",
    "    ->  They are identified by surrounding quote makes.\n",
    "    ->  Enclose a sequence of character in either (\") or double(\"\")qutoes(python doesn't)( are which).\n",
    "    ->  single Character in python is just one element string.\n",
    "    ->  python String are immutable-once defined they coun't be reaced"
   ]
  },
  {
   "cell_type": "code",
   "execution_count": 22,
   "id": "f53f25f3",
   "metadata": {},
   "outputs": [
    {
     "name": "stdout",
     "output_type": "stream",
     "text": [
      "GVP\n"
     ]
    }
   ],
   "source": [
    "j = \"GVP\"\n",
    "print(j)"
   ]
  },
  {
   "cell_type": "code",
   "execution_count": 12,
   "id": "45aef084",
   "metadata": {},
   "outputs": [
    {
     "data": {
      "text/plain": [
       "'p'"
      ]
     },
     "execution_count": 12,
     "metadata": {},
     "output_type": "execute_result"
    }
   ],
   "source": [
    "s=\"string\"\n",
    "s=\"vidyapith \"\n",
    "s[5]"
   ]
  },
  {
   "cell_type": "code",
   "execution_count": 23,
   "id": "330cc95f",
   "metadata": {},
   "outputs": [
    {
     "data": {
      "text/plain": [
       "'gvp  abad'"
      ]
     },
     "execution_count": 23,
     "metadata": {},
     "output_type": "execute_result"
    }
   ],
   "source": [
    "'gvp  ' + 'abad'\n",
    "#direct print"
   ]
  },
  {
   "cell_type": "code",
   "execution_count": 24,
   "id": "efe8e70f",
   "metadata": {},
   "outputs": [
    {
     "name": "stdout",
     "output_type": "stream",
     "text": [
      "gvp\n"
     ]
    }
   ],
   "source": [
    "print(\"gvp\")"
   ]
  },
  {
   "cell_type": "code",
   "execution_count": 30,
   "id": "7d5bf90f",
   "metadata": {},
   "outputs": [
    {
     "data": {
      "text/plain": [
       "'gvp abad'"
      ]
     },
     "execution_count": 30,
     "metadata": {},
     "output_type": "execute_result"
    }
   ],
   "source": [
    "'gvp ' + \"abad\"  #double cot 6 jo ha final ans to single cot ma "
   ]
  },
  {
   "cell_type": "code",
   "execution_count": 31,
   "id": "8d9791e0",
   "metadata": {},
   "outputs": [
    {
     "data": {
      "text/plain": [
       "'virpur'"
      ]
     },
     "execution_count": 31,
     "metadata": {},
     "output_type": "execute_result"
    }
   ],
   "source": [
    "\"virpur\""
   ]
  },
  {
   "cell_type": "code",
   "execution_count": 27,
   "id": "b318b228",
   "metadata": {},
   "outputs": [
    {
     "data": {
      "text/plain": [
       "'જય હિન્દ જય હિન્દ '"
      ]
     },
     "execution_count": 27,
     "metadata": {},
     "output_type": "execute_result"
    }
   ],
   "source": [
    "\n",
    "કે = \"જય હિન્દ \" * 2\n",
    "કે   "
   ]
  },
  {
   "cell_type": "code",
   "execution_count": 2,
   "id": "d8bf63f8",
   "metadata": {},
   "outputs": [
    {
     "name": "stdout",
     "output_type": "stream",
     "text": [
      "I Love my country 'india'\n"
     ]
    }
   ],
   "source": [
    "print(\"I Love my country 'india'\")\n",
    "#Embeding qutoe markString"
   ]
  },
  {
   "cell_type": "markdown",
   "id": "0e730442",
   "metadata": {},
   "source": [
    "***Quizz***"
   ]
  },
  {
   "cell_type": "code",
   "execution_count": 3,
   "id": "aba2204c",
   "metadata": {},
   "outputs": [
    {
     "data": {
      "text/plain": [
       "False"
      ]
     },
     "execution_count": 3,
     "metadata": {},
     "output_type": "execute_result"
    }
   ],
   "source": [
    "[] or False          # 0 or 0 => 0"
   ]
  },
  {
   "cell_type": "code",
   "execution_count": 8,
   "id": "5e135da4",
   "metadata": {},
   "outputs": [
    {
     "name": "stdout",
     "output_type": "stream",
     "text": [
      "False\n"
     ]
    }
   ],
   "source": [
    "print([] or False)   # 0 or 0 => 0"
   ]
  },
  {
   "cell_type": "code",
   "execution_count": 4,
   "id": "022e318a",
   "metadata": {},
   "outputs": [
    {
     "name": "stdout",
     "output_type": "stream",
     "text": [
      "helloo\n"
     ]
    }
   ],
   "source": [
    "print(False or 'helloo')  # 0 or 1 => 1"
   ]
  },
  {
   "cell_type": "code",
   "execution_count": 10,
   "id": "e5d694ee",
   "metadata": {},
   "outputs": [
    {
     "name": "stdout",
     "output_type": "stream",
     "text": [
      "2.5\n"
     ]
    }
   ],
   "source": [
    "print(2.5 or False)       # 0 or 1 => 1"
   ]
  },
  {
   "cell_type": "code",
   "execution_count": 15,
   "id": "40704bf6",
   "metadata": {},
   "outputs": [
    {
     "name": "stdout",
     "output_type": "stream",
     "text": [
      "1\n"
     ]
    }
   ],
   "source": [
    "print(True and 1)         # 1 and 1 => 1"
   ]
  },
  {
   "cell_type": "code",
   "execution_count": 16,
   "id": "663748ac",
   "metadata": {},
   "outputs": [
    {
     "name": "stdout",
     "output_type": "stream",
     "text": [
      "k\n"
     ]
    }
   ],
   "source": [
    "print(True and 'k')       # 1 and 1 => 1"
   ]
  },
  {
   "cell_type": "code",
   "execution_count": 13,
   "id": "89e07a19",
   "metadata": {},
   "outputs": [
    {
     "name": "stdout",
     "output_type": "stream",
     "text": [
      "k\n"
     ]
    }
   ],
   "source": [
    "print('k'and'k')          # 1 and 1 => 1"
   ]
  },
  {
   "cell_type": "code",
   "execution_count": 14,
   "id": "83132dc4",
   "metadata": {},
   "outputs": [
    {
     "name": "stdout",
     "output_type": "stream",
     "text": [
      "0\n"
     ]
    }
   ],
   "source": [
    "print(0 and r)            # 0 and 1 => 0"
   ]
  },
  {
   "cell_type": "code",
   "execution_count": 7,
   "id": "2ab96853",
   "metadata": {},
   "outputs": [
    {
     "name": "stdout",
     "output_type": "stream",
     "text": [
      "Gujrat \n",
      " india\n"
     ]
    }
   ],
   "source": [
    "s='Gujrat \\n india'\n",
    "print(s)"
   ]
  },
  {
   "cell_type": "code",
   "execution_count": 6,
   "id": "fad1b5b0",
   "metadata": {},
   "outputs": [
    {
     "name": "stdout",
     "output_type": "stream",
     "text": [
      "gujarat \t India\n"
     ]
    }
   ],
   "source": [
    "s='gujarat \\t India'\n",
    "print(s)"
   ]
  },
  {
   "cell_type": "markdown",
   "id": "ac32ab54",
   "metadata": {},
   "source": [
    "# String Element Are accessd using Squre Brackets[]"
   ]
  },
  {
   "cell_type": "markdown",
   "id": "a51845ad",
   "metadata": {},
   "source": [
    "    ->   indexing obtain Character from the string using a single integer to identity the position of the Character.\n",
    "    ->   silcing obtain  a subString using start:stop:step to specify Character to select.\n",
    "    ->   Indexing and slicing \"up to but not in including the stop position.\n",
    "    ->   a  \":\"  can be used to select all character either before and after a given position."
   ]
  },
  {
   "cell_type": "code",
   "execution_count": 28,
   "id": "1e33c8f5",
   "metadata": {},
   "outputs": [
    {
     "data": {
      "text/plain": [
       "'GjrtVdaih'"
      ]
     },
     "execution_count": 28,
     "metadata": {},
     "output_type": "execute_result"
    }
   ],
   "source": [
    "un='Gujarat Vidyapith'\n",
    "#un[0]          # Return index val\n",
    "#un[0:3]         # [0:3] - Starting Index : Ending Index\n",
    "# un[3:]\n",
    "#un[-1]          # Last Char of str\n",
    "#un[-1:]\n",
    "#un[-14:]\n",
    "# un[12:-2]\n",
    "# un[2:-12]\n",
    "# un[1:5]\n",
    "#un[1:5:2]\n",
    "un[0::2]\n",
    "# un[::1]\n",
    "# un[::-1]  \n",
    "                                     #reverse a string by readig it backward"
   ]
  },
  {
   "cell_type": "code",
   "execution_count": 9,
   "id": "74846944",
   "metadata": {},
   "outputs": [],
   "source": [
    "#un[0]='g'    "
   ]
  },
  {
   "cell_type": "markdown",
   "id": "88e29c3d",
   "metadata": {},
   "source": [
    "___String Method:-___<br>\n",
    "***convert all letter to uppar and Lowercase***"
   ]
  },
  {
   "cell_type": "code",
   "execution_count": 29,
   "id": "71a150ae",
   "metadata": {},
   "outputs": [
    {
     "data": {
      "text/plain": [
       "'Gujaram Vidyapimh'"
      ]
     },
     "execution_count": 29,
     "metadata": {},
     "output_type": "execute_result"
    }
   ],
   "source": [
    "s=\"Gujarat Vidyapith\"\n",
    "# s.upper()\n",
    "# s.lower()\n",
    "# s.capitalize()\n",
    "# count\n",
    "# s.count('u')\n",
    "# index\n",
    "# s.index('Vi')\n",
    "s.replace('t','m')\n"
   ]
  },
  {
   "cell_type": "code",
   "execution_count": 21,
   "id": "1d13dcee",
   "metadata": {},
   "outputs": [
    {
     "data": {
      "text/plain": [
       "['Gujarat', 'Vidyapith']"
      ]
     },
     "execution_count": 21,
     "metadata": {},
     "output_type": "execute_result"
    }
   ],
   "source": [
    "s.split() # split a string into a list of words"
   ]
  },
  {
   "cell_type": "markdown",
   "id": "fe403f2b",
   "metadata": {},
   "source": [
    "# Formatting String"
   ]
  },
  {
   "cell_type": "markdown",
   "id": "6979241a",
   "metadata": {},
   "source": [
    "    ->  String can be formated using the formet function . \n",
    "    ->  This allow Replacement fields Surrounded by curly {} in a string to be replaced by some other data. \n",
    "    ->  Within a replacement felds {} are filled in order with argument given.\n",
    "    ->  Number inside replacement feilds specify arguments by position,String with Zero. \n"
   ]
  },
  {
   "cell_type": "code",
   "execution_count": 23,
   "id": "c370d93a",
   "metadata": {},
   "outputs": [
    {
     "data": {
      "text/plain": [
       "'30 , 20'"
      ]
     },
     "execution_count": 23,
     "metadata": {},
     "output_type": "execute_result"
    }
   ],
   "source": [
    "# \"{} {}\".format(\"a\",\"b\")\n",
    "a=30\n",
    "b=20\n",
    "\"{} , {}\".format(a,b)\n",
    "#\"{} and {}\".format(b,b)"
   ]
  },
  {
   "cell_type": "code",
   "execution_count": 25,
   "id": "2df47820",
   "metadata": {},
   "outputs": [
    {
     "data": {
      "text/plain": [
       "'24 20'"
      ]
     },
     "execution_count": 25,
     "metadata": {},
     "output_type": "execute_result"
    }
   ],
   "source": [
    "i,j=20,24\n",
    "# print(\"{} {}\".format(i,j))\n",
    "\"{1} {0}\".format(i,j) \n"
   ]
  },
  {
   "cell_type": "markdown",
   "id": "3ab77eed",
   "metadata": {},
   "source": [
    "# Format specification for the field width and padding are provided after a column'.'"
   ]
  },
  {
   "cell_type": "markdown",
   "id": "775683fe",
   "metadata": {},
   "source": [
    "    -> A Field With can be Specified using:n where is an integer specifing the number of Characters in the Field.\n",
    "    -> If the data has less character then the field width ,the default is to insert extra space on the right  i.e to\"pad\"on the  right"
   ]
  },
  {
   "cell_type": "code",
   "execution_count": 36,
   "id": "4404b559",
   "metadata": {
    "scrolled": true
   },
   "outputs": [
    {
     "name": "stdout",
     "output_type": "stream",
     "text": [
      "9ab   2\n"
     ]
    }
   ],
   "source": [
    "# print(\"{} {}\".format('9ab',2))\n",
    "# print(\"{:5} {}\".format('9ab',2))\n",
    "print(\"{:5.5} {}\".format('9ab',2)) #using a field of width 5 width the defult padding"
   ]
  },
  {
   "cell_type": "code",
   "execution_count": 67,
   "id": "7a4b32b8",
   "metadata": {},
   "outputs": [
    {
     "name": "stdout",
     "output_type": "stream",
     "text": [
      "  9ab 2\n"
     ]
    }
   ],
   "source": [
    "print(\"{:>5} {}\".format('9ab',2)) #to pad on the left use:>. n=5field width"
   ]
  },
  {
   "cell_type": "code",
   "execution_count": 68,
   "id": "4446d2c1",
   "metadata": {},
   "outputs": [
    {
     "name": "stdout",
     "output_type": "stream",
     "text": [
      "9ab   2\n"
     ]
    }
   ],
   "source": [
    "print(\"{:<5} {}\".format('9ab',2))"
   ]
  },
  {
   "cell_type": "markdown",
   "id": "ccc6c539",
   "metadata": {},
   "source": [
    "# Format Specification numarical data to be neatly printed and dligned."
   ]
  },
  {
   "cell_type": "markdown",
   "id": "9716529a",
   "metadata": {},
   "source": [
    "     -> Integer are refferd to using :d.\n",
    "     -> Float are refferd to using :f.\n",
    "     -> An Integer after a decimal points is used to indicate how many decimal places to disply.\n",
    "     -> Use:m.mf to indecate to Replacement field of width n for a oat printed to m decimalplaces.\n"
   ]
  },
  {
   "cell_type": "code",
   "execution_count": 6,
   "id": "660e6746",
   "metadata": {},
   "outputs": [
    {
     "name": "stdout",
     "output_type": "stream",
     "text": [
      "  3.1416  \n"
     ]
    }
   ],
   "source": [
    "pi=3.1416\n",
    "# print (pi)\n",
    "# print(\"{5.2f}\".format(ni))\n",
    "print(\"{:^10.4f}\".format(pi))"
   ]
  },
  {
   "cell_type": "markdown",
   "id": "82fd9094",
   "metadata": {},
   "source": [
    "<span> ***Type conversions:-*** </span>"
   ]
  },
  {
   "cell_type": "markdown",
   "id": "2b279b52",
   "metadata": {},
   "source": [
    "     object can be explicity converted from one type to another.This is called type casting."
   ]
  },
  {
   "cell_type": "code",
   "execution_count": 30,
   "id": "3b80d8c6",
   "metadata": {},
   "outputs": [
    {
     "data": {
      "text/plain": [
       "int"
      ]
     },
     "execution_count": 30,
     "metadata": {},
     "output_type": "execute_result"
    }
   ],
   "source": [
    "i=float(\"10\")#float is class constructor  this is called casting\n",
    "# i\n",
    "i=int(12.33)                            #type casting\n",
    "type(i)\n"
   ]
  },
  {
   "cell_type": "code",
   "execution_count": null,
   "id": "a971118f",
   "metadata": {},
   "outputs": [],
   "source": []
  }
 ],
 "metadata": {
  "kernelspec": {
   "display_name": "Python 3",
   "language": "python",
   "name": "python3"
  },
  "language_info": {
   "codemirror_mode": {
    "name": "ipython",
    "version": 3
   },
   "file_extension": ".py",
   "mimetype": "text/x-python",
   "name": "python",
   "nbconvert_exporter": "python",
   "pygments_lexer": "ipython3",
   "version": "3.9.4"
  }
 },
 "nbformat": 4,
 "nbformat_minor": 5
}
