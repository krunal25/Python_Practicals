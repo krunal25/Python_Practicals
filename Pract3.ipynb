{
 "cells": [
  {
   "cell_type": "markdown",
   "id": "93a1406c",
   "metadata": {},
   "source": [
    "# Functions"
   ]
  },
  {
   "cell_type": "markdown",
   "id": "32e4eea2",
   "metadata": {},
   "source": [
    "__what is function in paython ?__"
   ]
  },
  {
   "cell_type": "markdown",
   "id": "cf12c7d7",
   "metadata": {},
   "source": [
    "1.In, python function is group of related statements that performs a specific task.<br>\n",
    "2.Function help brreak our programe into smaller and modular chunks.<br>\n",
    "3.It above repetation  and makes the code reusable.\n"
   ]
  },
  {
   "cell_type": "markdown",
   "id": "f26d1834",
   "metadata": {},
   "source": [
    "__Types of Functions:__"
   ]
  },
  {
   "cell_type": "markdown",
   "id": "96670a3a",
   "metadata": {},
   "source": [
    "1.Built in Function that are built into python.<br>\n",
    "2.user-define Functions define by the users themselves."
   ]
  },
  {
   "cell_type": "markdown",
   "id": "d13ab0c2",
   "metadata": {},
   "source": [
    "**Syntax**<br>\n",
    "   def function_name(Parameters):<br>\n",
    "       \"\"\"docstring\"\"\"<br>\n",
    "       Statement(s)"
   ]
  },
  {
   "cell_type": "code",
   "execution_count": 4,
   "id": "6a8613ff",
   "metadata": {},
   "outputs": [
    {
     "name": "stdout",
     "output_type": "stream",
     "text": [
      "htipaydiV tarjuG\n"
     ]
    }
   ],
   "source": [
    "s=\"Gujrat Vidyapith\"\n",
    "def srev(mystring): \n",
    "      print(mystring[::-1])\n",
    "srev(s)"
   ]
  },
  {
   "cell_type": "code",
   "execution_count": 6,
   "id": "41c775ac",
   "metadata": {},
   "outputs": [
    {
     "name": "stdout",
     "output_type": "stream",
     "text": [
      "htipaydiV tarajuG\n"
     ]
    }
   ],
   "source": [
    "s=\"Gujarat Vidyapith\"\n",
    "srev(s)"
   ]
  },
  {
   "cell_type": "code",
   "execution_count": 7,
   "id": "cc09856e",
   "metadata": {},
   "outputs": [
    {
     "name": "stdout",
     "output_type": "stream",
     "text": [
      "htipaydiV tarajuG\n",
      "None\n"
     ]
    }
   ],
   "source": [
    "s=\"Gujarat Vidyapith\"\n",
    "def srev(mystring): \n",
    "      print(mystring[::-1])\n",
    "print(srev(s))"
   ]
  },
  {
   "cell_type": "markdown",
   "id": "c38397ae",
   "metadata": {},
   "source": [
    "    ***  Above shown is a function defination that consists of the following components  **"
   ]
  },
  {
   "cell_type": "markdown",
   "id": "5502e5aa",
   "metadata": {},
   "source": [
    "    -> 1.  keyword def that marks the start of the function heade\n",
    "\n",
    "    -> 2.  a function name to uniquely identify the function.Function naming follows the same rules of writing identifires \n",
    "           in pytho\n",
    "\n",
    "    -> 3.  parameters (arguments)through which we pass values to .They are optiona\n",
    "\n",
    "    -> 4.  A colon(:) to mark the end of the Function header.\n",
    "\n",
    "    -> 5.  Optional documentation String (docstring )to describe what the function does\n",
    "\n",
    "    -> 6.  Once or mor valid python statements that make up funtional body\n",
    "\n",
    "    -> 7.  statement must have the same indentation level(usally 4 space)\n",
    "\n",
    "    -> 8.  An optional return statement to return a value from the function\n"
   ]
  },
  {
   "cell_type": "code",
   "execution_count": 12,
   "id": "c7ead426",
   "metadata": {},
   "outputs": [
    {
     "data": {
      "text/plain": [
       "93"
      ]
     },
     "execution_count": 12,
     "metadata": {},
     "output_type": "execute_result"
    }
   ],
   "source": [
    "# Find max no\n",
    "def mymax(list1):\n",
    "    maxval = 0\n",
    "    for i in range(0, len(list1)):\n",
    "        if(list1[i] > maxval):\n",
    "            maxval = list1[i]\n",
    "    return maxval\n",
    "\n",
    "mymax([77,48,19,17,93,90])"
   ]
  },
  {
   "cell_type": "markdown",
   "id": "66f6bb1f",
   "metadata": {},
   "source": [
    "__Docstring__"
   ]
  },
  {
   "cell_type": "code",
   "execution_count": 2,
   "id": "8e8606c8",
   "metadata": {},
   "outputs": [
    {
     "name": "stdout",
     "output_type": "stream",
     "text": [
      "Object `Docstring` not found.\n"
     ]
    }
   ],
   "source": [
    "what is Docstring?"
   ]
  },
  {
   "cell_type": "markdown",
   "id": "12e15fce",
   "metadata": {},
   "source": [
    "**What is Docstring?**<br>\n",
    "\n",
    "       The first String after the function header called the docstring and is short for documentation string.<br>\n",
    "       It is brifly used to explain what a function does (optional)"
   ]
  },
  {
   "cell_type": "markdown",
   "id": "ba1d1d8c",
   "metadata": {},
   "source": [
    "<span style= 'background:pink'> Note :</span> we generally use tripal qutoed so that docstring can extend up to multiple lines.This String is availlable to us as the '_doc_' attribute of the function "
   ]
  },
  {
   "cell_type": "markdown",
   "id": "e784c8e5",
   "metadata": {},
   "source": [
    "def srev(string)\n",
    "     ---\n",
    "    Function print string in reverse order\n",
    "    hello\n",
    "    ---\n",
    "    print(string[::-1])"
   ]
  },
  {
   "cell_type": "markdown",
   "id": "ca4b55e7",
   "metadata": {},
   "source": [
    "**The markdown Statement**"
   ]
  },
  {
   "cell_type": "markdown",
   "id": "b8a6e94e",
   "metadata": {},
   "source": [
    "    -> The return statement is used to exit a function and go back to the place from where it was called    \n",
    "    -> Return statement itself is not present inside a function.Then the function will return the None object"
   ]
  },
  {
   "cell_type": "markdown",
   "id": "82fff19b",
   "metadata": {},
   "source": [
    "# Scope and Lifetime variables"
   ]
  },
  {
   "cell_type": "markdown",
   "id": "4d952575",
   "metadata": {},
   "source": [
    "    1. Parameters and variable define inside a funtion are not visible from outside the function hence they have \n",
    "       a local scope.\n",
    "    2. The lifetime of variables inside a function is as long as the function exicutes."
   ]
  },
  {
   "cell_type": "code",
   "execution_count": 14,
   "id": "a506c2e7",
   "metadata": {},
   "outputs": [
    {
     "name": "stdout",
     "output_type": "stream",
     "text": [
      "global\n"
     ]
    }
   ],
   "source": [
    "#Example -scope of the variable \n",
    "x='global'\n",
    "def square(x):\n",
    "    return x*x\n",
    "print(x)"
   ]
  },
  {
   "cell_type": "code",
   "execution_count": 15,
   "id": "98e3f340",
   "metadata": {},
   "outputs": [
    {
     "data": {
      "text/plain": [
       "25"
      ]
     },
     "execution_count": 15,
     "metadata": {},
     "output_type": "execute_result"
    }
   ],
   "source": [
    "x='global'\n",
    "def square(x):\n",
    "    return x*x\n",
    "    print(x)\n",
    "square(5)"
   ]
  },
  {
   "cell_type": "code",
   "execution_count": 16,
   "id": "5ede5f50",
   "metadata": {},
   "outputs": [
    {
     "ename": "SyntaxError",
     "evalue": "name 'x' is parameter and global (<ipython-input-16-1cb5a793fa98>, line 3)",
     "output_type": "error",
     "traceback": [
      "\u001b[1;36m  File \u001b[1;32m\"<ipython-input-16-1cb5a793fa98>\"\u001b[1;36m, line \u001b[1;32m3\u001b[0m\n\u001b[1;33m    global x\u001b[0m\n\u001b[1;37m    ^\u001b[0m\n\u001b[1;31mSyntaxError\u001b[0m\u001b[1;31m:\u001b[0m name 'x' is parameter and global\n"
     ]
    }
   ],
   "source": [
    "x='global'\n",
    "def square(x):\n",
    "    global x\n",
    "    return x*x\n",
    "    print(x)\n",
    " #   print(y)\n",
    "square(5)"
   ]
  },
  {
   "cell_type": "code",
   "execution_count": 17,
   "id": "5cc3aef1",
   "metadata": {},
   "outputs": [
    {
     "name": "stdout",
     "output_type": "stream",
     "text": [
      "global\n",
      "5\n"
     ]
    }
   ],
   "source": [
    "x='global'\n",
    "def square(y):\n",
    "    global x\n",
    "    print(x)\n",
    "    print(y)\n",
    "\n",
    "square(5)"
   ]
  },
  {
   "cell_type": "markdown",
   "id": "5829c254",
   "metadata": {},
   "source": [
    "**Argument**"
   ]
  },
  {
   "cell_type": "code",
   "execution_count": 18,
   "id": "e5d9f378",
   "metadata": {},
   "outputs": [
    {
     "name": "stdout",
     "output_type": "stream",
     "text": [
      "hello  good morning krunal\n"
     ]
    }
   ],
   "source": [
    "def hello(g,name):\n",
    "    print(\"hello {}{}\".format(name,g))\n",
    "hello(' krunal',' good morning')"
   ]
  },
  {
   "cell_type": "code",
   "execution_count": null,
   "id": "cfcc74f0",
   "metadata": {},
   "outputs": [],
   "source": []
  }
 ],
 "metadata": {
  "kernelspec": {
   "display_name": "Python 3",
   "language": "python",
   "name": "python3"
  },
  "language_info": {
   "codemirror_mode": {
    "name": "ipython",
    "version": 3
   },
   "file_extension": ".py",
   "mimetype": "text/x-python",
   "name": "python",
   "nbconvert_exporter": "python",
   "pygments_lexer": "ipython3",
   "version": "3.9.4"
  }
 },
 "nbformat": 4,
 "nbformat_minor": 5
}
