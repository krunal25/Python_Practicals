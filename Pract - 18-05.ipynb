{
 "cells": [
  {
   "cell_type": "code",
   "execution_count": 50,
   "id": "36200fb3",
   "metadata": {},
   "outputs": [
    {
     "name": "stdout",
     "output_type": "stream",
     "text": [
      "Enter 1st Number :5\n",
      "Enter 2nd Number :5\n",
      "Addition of two Number is : 10.0\n"
     ]
    }
   ],
   "source": [
    "# 1 Python program to add two numbers\n",
    "\n",
    "n1 = float(input(\"Enter 1st Number :\"))\n",
    "n2 = float(input(\"Enter 2nd Number :\"))\n",
    "print(\"Addition of two Number is :\",n1+n2)\n"
   ]
  },
  {
   "cell_type": "code",
   "execution_count": 29,
   "id": "eff999ac",
   "metadata": {},
   "outputs": [
    {
     "name": "stdout",
     "output_type": "stream",
     "text": [
      "Enter 1st Number :5\n",
      "Enter 2nd Number :5\n",
      "5.0  is Greater\n",
      "Maximum No from  5.0 and  5.0 is : 5.0\n"
     ]
    }
   ],
   "source": [
    "#Maximum of two numbers in Python\n",
    "\n",
    "n1 = float(input(\"Enter 1st Number :\"))\n",
    "n2 = float(input(\"Enter 2nd Number :\"))\n",
    "\n",
    "if n1 > n2:\n",
    "    print(n1,\" is Greater\")\n",
    "else : \n",
    "    print(n2,\" is Greater\")    \n",
    "    \n",
    "print(\"Maximum No from \",n1, \"and \",n2,\"is :\",max(n1,n2))"
   ]
  },
  {
   "cell_type": "code",
   "execution_count": 12,
   "id": "e0dccfeb",
   "metadata": {},
   "outputs": [
    {
     "name": "stdout",
     "output_type": "stream",
     "text": [
      "Enter a number :6\n",
      "The factorial is :  720\n"
     ]
    }
   ],
   "source": [
    "#3 Python Program for factorial of a number \n",
    "\n",
    "no = int(input(\"Enter a number :\"))\n",
    "\n",
    "f = 1\n",
    "while(no > 0):\n",
    "   f = f * no\n",
    "   no =no - 1\n",
    "print(\"The factorial is : \",f)\n",
    "\n",
    "#for loop \n",
    "# f1 = 1\n",
    "# for i in range(1,no+1):\n",
    "#     f1 = f1 * i\n",
    "# print(\"The factorial 1 is : \",f1)\n",
    "\n",
    "# recursion\n",
    "# def fact(n):\n",
    "#     if n == 1:\n",
    "#         return n\n",
    "#     else: \n",
    "#         return n*fact(n-1) \n",
    "# print(\"The factorial  is\",fact(no))  "
   ]
  },
  {
   "cell_type": "code",
   "execution_count": 6,
   "id": "e6f4026d",
   "metadata": {},
   "outputs": [
    {
     "name": "stdout",
     "output_type": "stream",
     "text": [
      "Enter Amt :55\n",
      "Enter Rate :10\n",
      "Enter Time :2\n",
      "Your simple Interest is : 11.0\n"
     ]
    }
   ],
   "source": [
    "#4 Python Program for simple interest\n",
    "p = float(input(\"Enter Amt :\"))\n",
    "r = float(input(\"Enter Rate :\"))\n",
    "n = float(input(\"Enter Time :\"))\n",
    "\n",
    "si = (p*r*n) / 100\n",
    "print(\"Your simple Interest is :\",si)"
   ]
  },
  {
   "cell_type": "code",
   "execution_count": 8,
   "id": "13b98061",
   "metadata": {},
   "outputs": [
    {
     "name": "stdout",
     "output_type": "stream",
     "text": [
      "Enter Amt :333\n",
      "Enter Rate :3\n",
      "Enter Time :3\n",
      "Your simple Interest is : 30.878090999999984\n"
     ]
    }
   ],
   "source": [
    "#5  Python Program Compound Interest\n",
    "p = float(input(\"Enter Amt :\"))\n",
    "r = float(input(\"Enter Rate :\"))\n",
    "n = float(input(\"Enter Time :\"))\n",
    "\n",
    "ci = ( p * ((pow((1 + r / 100), n)))) - p\n",
    "print(\"Your simple Interest is :\",ci)\n"
   ]
  },
  {
   "cell_type": "code",
   "execution_count": 28,
   "id": "979439bb",
   "metadata": {},
   "outputs": [
    {
     "name": "stdout",
     "output_type": "stream",
     "text": [
      "Enter the number: 444\n",
      "444 Not Armstrong number\n"
     ]
    }
   ],
   "source": [
    "# 6 Program to check no is Armstrong No or not\n",
    "\n",
    "n = int(input(\"Enter the number: \"))\n",
    "tot = 0\n",
    "\n",
    "tv = n\n",
    "while tv > 0:\n",
    "    ln = tv % 10\n",
    "    tot += ln ** 3\n",
    "    tv //= 10\n",
    "\n",
    "if n == tot:\n",
    "    print(n,\"Armstrong number\")\n",
    "else:\n",
    "    print(n,\"Not Armstrong number\")\n"
   ]
  },
  {
   "cell_type": "code",
   "execution_count": 10,
   "id": "c22702f8",
   "metadata": {},
   "outputs": [
    {
     "name": "stdout",
     "output_type": "stream",
     "text": [
      "Enter Radiou :5\n",
      "Area of Circle : 78.53981633974483\n"
     ]
    }
   ],
   "source": [
    "#7 Python Program for Program to find area of a circle\n",
    "import math\n",
    "r = float(input(\"Enter Radiou :\"))\n",
    "aoc = math.pi * r * r\n",
    "print(\"Area of Circle :\",aoc)\n"
   ]
  },
  {
   "cell_type": "code",
   "execution_count": 20,
   "id": "9f1b1d52",
   "metadata": {},
   "outputs": [
    {
     "name": "stdout",
     "output_type": "stream",
     "text": [
      "Enter start :1\n",
      "Enter end :10\n",
      "2\n",
      "3\n",
      "5\n",
      "7\n"
     ]
    }
   ],
   "source": [
    "#8 Python program to print all Prime numbers in an Interval\n",
    "start = int(input(\"Enter start :\"))\n",
    "end = int(input(\"Enter end :\"))\n",
    "\n",
    "for i in range(start, end+1):\n",
    "    if i>1:\n",
    "        for i1 in range(2,i):\n",
    "            if(i % i1==0):\n",
    "                break\n",
    "        else:\n",
    "            print(i)\n"
   ]
  },
  {
   "cell_type": "code",
   "execution_count": 124,
   "id": "5bee45ab",
   "metadata": {},
   "outputs": [
    {
     "name": "stdout",
     "output_type": "stream",
     "text": [
      "Enter no :999\n",
      "999  Not Prime number\n"
     ]
    }
   ],
   "source": [
    "#9 Python program to to check prime or not\n",
    "\n",
    "num = int(input(\"Enter no :\"))\n",
    "k = 0\n",
    "\n",
    "if num > 1:\n",
    "    for i in range(2, num):\n",
    "        if (num % i) == 0:\n",
    "            k = 1\n",
    "            break\n",
    "if k == 1:\n",
    "    print(num, \" Not Prime number\")\n",
    "else:\n",
    "    print(num, \" Prime number\")"
   ]
  },
  {
   "cell_type": "code",
   "execution_count": 126,
   "id": "6e3ba17e",
   "metadata": {},
   "outputs": [
    {
     "name": "stdout",
     "output_type": "stream",
     "text": [
      "Enter no for series  :5\n",
      "Series is :  0 1 1 2 3 "
     ]
    }
   ],
   "source": [
    "#10 Python Program for n-th Fibonacci number\n",
    "a=int(input(\"Enter no for series  :\"))\n",
    "f=0                                         \n",
    "s=1                                         \n",
    "if a<=0:\n",
    "    print(\"check again \",f)\n",
    "else:\n",
    "    print(\"Series is : \",f,s,end=\" \")\n",
    "    for x in range(2,a):\n",
    "        next=f+s                           \n",
    "        print(next,end=\" \")\n",
    "        f=s\n",
    "        s=next"
   ]
  },
  {
   "cell_type": "code",
   "execution_count": 67,
   "id": "4c3de90a",
   "metadata": {},
   "outputs": [
    {
     "name": "stdout",
     "output_type": "stream",
     "text": [
      "Enter start :1\n",
      "Enter end :20\n",
      "2\n",
      "3\n",
      "5\n",
      "7\n",
      "11\n",
      "13\n",
      "17\n",
      "19\n"
     ]
    }
   ],
   "source": [
    "# prime series \n",
    "start = int(input(\"Enter start :\"))\n",
    "end = int(input(\"Enter end :\"))\n",
    "\n",
    "for i in range(start,end+1):\n",
    "    if i > 1:\n",
    "        for i2 in range(2,i):\n",
    "            if i % i2 == 0:\n",
    "                break\n",
    "        else:\n",
    "            print(i)\n",
    "                "
   ]
  },
  {
   "cell_type": "code",
   "execution_count": 75,
   "id": "4ee47dde",
   "metadata": {},
   "outputs": [
    {
     "name": "stdout",
     "output_type": "stream",
     "text": [
      "107\n"
     ]
    }
   ],
   "source": [
    "#13 Program to print ASCII Value of a character\n",
    "a = \"k\"\n",
    "print(ord(a))"
   ]
  },
  {
   "cell_type": "code",
   "execution_count": 91,
   "id": "43acdb93",
   "metadata": {},
   "outputs": [
    {
     "name": "stdout",
     "output_type": "stream",
     "text": [
      "Enter no :3\n",
      "14\n"
     ]
    }
   ],
   "source": [
    "#14 Program to print to print Sum of squares of first n natural numbers\n",
    "\n",
    "tot = 0\n",
    "n = int(input(\"Enter no :\"))\n",
    "for i in range(1,n+1):\n",
    "    if n<=0:\n",
    "        print(\"not valid\")\n",
    "    else :\n",
    "        tot = tot + i ** 2\n",
    "print(tot)"
   ]
  },
  {
   "cell_type": "code",
   "execution_count": 97,
   "id": "154b79c7",
   "metadata": {},
   "outputs": [
    {
     "name": "stdout",
     "output_type": "stream",
     "text": [
      "55\n"
     ]
    }
   ],
   "source": [
    "#14 Sum of squares of first n natural numbers\n",
    "\n",
    "class sq:\n",
    "    def ansss(n):\n",
    "            tot = 0\n",
    "            for i in range(1,n+1):\n",
    "                if n<=0:\n",
    "                    print(\"not valid\")\n",
    "                else :\n",
    "                    tot = tot + i ** 2\n",
    "            print(tot)\n",
    "#         n1 = int(input(\"Enter no :\"))\n",
    "#         ansss(n1)\n",
    "a = sq.ansss(5)"
   ]
  },
  {
   "cell_type": "code",
   "execution_count": 100,
   "id": "f6f6f61c",
   "metadata": {},
   "outputs": [
    {
     "name": "stdout",
     "output_type": "stream",
     "text": [
      "Enter no :2\n",
      "9\n"
     ]
    }
   ],
   "source": [
    "#15 Program to print Sum of cube of first n natural numbers\n",
    "\n",
    "tot = 0\n",
    "n = int(input(\"Enter no :\"))\n",
    "for i in range(1,n+1):\n",
    "    if n<=0:\n",
    "        print(\"not valid\")\n",
    "    else :\n",
    "        tot = tot + i ** 3\n",
    "print(tot)"
   ]
  },
  {
   "cell_type": "code",
   "execution_count": 17,
   "id": "f4b728d3",
   "metadata": {},
   "outputs": [
    {
     "name": "stdout",
     "output_type": "stream",
     "text": [
      "Enter No :4\n",
      "[1, 1, 2, 3, 5]\n",
      "1  is Fibonacci\n",
      "2  is Fibonacci\n",
      "3  is Fibonacci\n",
      "4  is not Fibonacci\n"
     ]
    }
   ],
   "source": [
    "# 11 Program to check no is F or notibonacci or not\n",
    "no = int(input(\"Enter No :\"))\n",
    "n1 = 0 \n",
    "n2 = 1\n",
    "f = 0\n",
    "fs = []\n",
    "for i in range(no+1):\n",
    "    n1 = n2 \n",
    "    n2 = f\n",
    "    f = n1 + n2\n",
    "    fs.append(f)\n",
    "#print(f)\n",
    "print(fs) \n",
    "for i1 in range(1,no+1):\n",
    "    if i1 in fs:\n",
    "        print(i1 ,\" is Fibonacci\")\n",
    "    else :\n",
    "        \n",
    "        print(i1 ,\" is not Fibonacci\")"
   ]
  },
  {
   "cell_type": "code",
   "execution_count": null,
   "id": "dc91b9e9",
   "metadata": {},
   "outputs": [],
   "source": [
    "# 12 Find Position Of nth Fibonacci no\n"
   ]
  },
  {
   "cell_type": "code",
   "execution_count": null,
   "id": "8ad7f781",
   "metadata": {},
   "outputs": [],
   "source": []
  },
  {
   "cell_type": "code",
   "execution_count": null,
   "id": "b3b6c542",
   "metadata": {},
   "outputs": [],
   "source": []
  }
 ],
 "metadata": {
  "kernelspec": {
   "display_name": "Python 3",
   "language": "python",
   "name": "python3"
  },
  "language_info": {
   "codemirror_mode": {
    "name": "ipython",
    "version": 3
   },
   "file_extension": ".py",
   "mimetype": "text/x-python",
   "name": "python",
   "nbconvert_exporter": "python",
   "pygments_lexer": "ipython3",
   "version": "3.9.4"
  }
 },
 "nbformat": 4,
 "nbformat_minor": 5
}
